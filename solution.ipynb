{
 "cells": [
  {
   "cell_type": "code",
   "execution_count": 1,
   "metadata": {},
   "outputs": [],
   "source": [
    "import cv2\n",
    "import numpy as np\n",
    "import matplotlib.pyplot as plt"
   ]
  },
  {
   "cell_type": "code",
   "execution_count": 65,
   "metadata": {},
   "outputs": [
    {
     "name": "stdout",
     "output_type": "stream",
     "text": [
      "(177, 177, 3)\n"
     ]
    }
   ],
   "source": [
    "img1 = cv2.imread(\"data/Level1.png\")\n",
    "print(img1.shape)"
   ]
  },
  {
   "cell_type": "code",
   "execution_count": 3,
   "metadata": {},
   "outputs": [
    {
     "name": "stdout",
     "output_type": "stream",
     "text": [
      "[67 67 67]\n"
     ]
    }
   ],
   "source": [
    "print(img1[0, 0])"
   ]
  },
  {
   "cell_type": "code",
   "execution_count": 66,
   "metadata": {
    "scrolled": false
   },
   "outputs": [
    {
     "name": "stdout",
     "output_type": "stream",
     "text": [
      "Congrats on solving the first level of this task! You were able to figure out the ASCII text from the image, but wait! Your journey is not yet over. After the end of the text you will find a (200, 150, 3) coloured image. This image is a part of the bigger image called \"zucky_elon.png\". Find the top left coordinate (Image convention) from where this image was taken. The x coordinate represents the colour of a monochrome maze hidden in an image with coloured noise. Find the maze and solve the maze using any algothrim like dfs but better. Try comparing them and seeing how they perform like A*, RRT, RRT* for example. Once the maze is solved you will see a word. This word is a password to a password protected zip file which contains a png. Note that the password is case sensitive and all the aplhabets in the password will be capital letters This is your treasure. To open the treasure you need to convert the image in to an audio file in a simple way like you did for this ASCII text. Once converted, open the .mp3 file and enjoy your treasure, you deserved it! A part of the image \"zucky_elon.png\" will begin immediatly after the colon, image-lv2 :\n",
      " 6 93\n"
     ]
    }
   ],
   "source": [
    "h, w = img1.shape[:-1]\n",
    "for i in range(h):\n",
    "    if img1[i, 0, 0] != img1[i, 0, 1]:\n",
    "        break\n",
    "    for j in range(w):\n",
    "        print(chr(int(img1[i, j, 0])), end='')\n",
    "        if chr(int(img1[i, j, 0])) == ':':\n",
    "            print('\\n', i, j)\n",
    "            break\n",
    "    "
   ]
  },
  {
   "cell_type": "code",
   "execution_count": 5,
   "metadata": {},
   "outputs": [
    {
     "name": "stdout",
     "output_type": "stream",
     "text": [
      "(83, 3)\n",
      "(30173, 3)\n",
      "(200, 150, 3)\n"
     ]
    }
   ],
   "source": [
    "temp = img1[6, 94:, :]\n",
    "needle = np.append(temp, img1[7:, :, :].reshape(-1, 3), axis=0)\n",
    "# needle[0] = img1[6:, :, :]\n",
    "# print(needle.shape)\n",
    "print(temp.shape)\n",
    "print(needle.shape)\n",
    "needle = needle[:30000].reshape((200, 150, 3))\n",
    "print(needle.shape)"
   ]
  },
  {
   "cell_type": "code",
   "execution_count": 6,
   "metadata": {},
   "outputs": [],
   "source": [
    "haystack = cv2.imread('data/zucky_elon.png')"
   ]
  },
  {
   "cell_type": "code",
   "execution_count": 7,
   "metadata": {},
   "outputs": [],
   "source": [
    "cv2.imshow('test', needle)\n",
    "cv2.waitKey(0)\n",
    "cv2.destroyAllWindows()"
   ]
  },
  {
   "cell_type": "code",
   "execution_count": 8,
   "metadata": {},
   "outputs": [],
   "source": [
    "# res = cv2.matchTemplate(haystack, needle, method)\n",
    "# min_val, max_val, min_loc, max_loc = cv2.minMaxLoc(res)"
   ]
  },
  {
   "cell_type": "code",
   "execution_count": 9,
   "metadata": {},
   "outputs": [
    {
     "name": "stdout",
     "output_type": "stream",
     "text": [
      "(230, 460)\n"
     ]
    }
   ],
   "source": [
    "img = haystack.copy()\n",
    "method = cv2.TM_CCOEFF\n",
    "\n",
    "# Apply template Matching\n",
    "res = cv2.matchTemplate(img, needle, method)\n",
    "min_val, max_val, min_loc, max_loc = cv2.minMaxLoc(res)\n",
    "print(max_loc)"
   ]
  },
  {
   "cell_type": "code",
   "execution_count": 10,
   "metadata": {},
   "outputs": [],
   "source": [
    "# h, w = needle.shape[:-1]\n",
    "# accumulator = np.ones((807,1264))\n",
    "# for idx in range(3):\n",
    "#     img = haystack.copy()[:, :, idx]\n",
    "#     method = cv2.TM_CCOEFF\n",
    "\n",
    "#     # Apply template Matching\n",
    "#     res = cv2.matchTemplate(img,needle[:, :, idx], method)\n",
    "#     accumulator = accumulator * res\n",
    "    \n",
    "# min_val, max_val, min_loc, max_loc = cv2.minMaxLoc(accumulator)\n",
    "\n",
    "# top_left = max_loc\n",
    "# bottom_right = (top_left[0] + w, top_left[1] + h)\n",
    "# print(top_left)"
   ]
  },
  {
   "cell_type": "code",
   "execution_count": 11,
   "metadata": {},
   "outputs": [
    {
     "name": "stdout",
     "output_type": "stream",
     "text": [
      "(180, 457, 3)\n"
     ]
    }
   ],
   "source": [
    "color = 230\n",
    "maze = cv2.imread('data/maze_lv3.png')\n",
    "print(maze.shape)"
   ]
  },
  {
   "cell_type": "code",
   "execution_count": 12,
   "metadata": {},
   "outputs": [],
   "source": [
    "color = 230\n",
    "\n",
    "mask = maze[:, :, 0] != color\n",
    "# mask = mask.all(axis=-1)"
   ]
  },
  {
   "cell_type": "code",
   "execution_count": 13,
   "metadata": {},
   "outputs": [],
   "source": [
    "maze2 = maze.copy()\n",
    "maze2[mask] = [0, 0, 0]\n",
    "maze2[~mask] = [255, 255, 255]"
   ]
  },
  {
   "cell_type": "code",
   "execution_count": 14,
   "metadata": {
    "scrolled": true
   },
   "outputs": [
    {
     "data": {
      "text/plain": [
       "<matplotlib.image.AxesImage at 0x27e66339c70>"
      ]
     },
     "execution_count": 14,
     "metadata": {},
     "output_type": "execute_result"
    },
    {
     "data": {
      "image/png": "[encoded data removed]",
      "text/plain": [
       "<Figure size 432x288 with 1 Axes>"
      ]
     },
     "metadata": {
      "needs_background": "light"
     },
     "output_type": "display_data"
    }
   ],
   "source": [
    "maze3 = maze2[:, :, 0]\n",
    "plt.imshow(maze3, cmap='gray')\n",
    "# plt.imshow(maze2,)\n",
    "# cv2.imshow('test', maze3)\n",
    "# cv2.waitKey(0)\n",
    "# cv2.destroyAllWindows()"
   ]
  },
  {
   "cell_type": "code",
   "execution_count": 15,
   "metadata": {},
   "outputs": [],
   "source": [
    "# for row in maze:\n",
    "#     for pixel in row:\n",
    "#         if pixel[0] == pixel[1] == pixel[2]:\n",
    "#             print(pixel)\n",
    "# print(maze)"
   ]
  },
  {
   "cell_type": "code",
   "execution_count": 16,
   "metadata": {},
   "outputs": [],
   "source": [
    "# kernel = cv2.getStructuringElement(cv2.MORPH_RECT,(2,2))\n",
    "# closing = cv2.morphologyEx(maze3, cv2.MORPH_OPEN, kernel)\n",
    "# kernel = np.ones((3,3),np.uint8)\n",
    "# closing = cv2.morphologyEx(closing, cv2.MORPH_CLOSE, kernel)\n",
    "# closing = cv2.morphologyEx(closing, cv2.MORPH_CLOSE, kernel)\n",
    "# closing = cv2.morphologyEx(closing, cv2.MORPH_CLOSE, kernel)\n",
    "# closing = cv2.morphologyEx(closing, cv2.MORPH_CLOSE, kernel)\n",
    "# closing = cv2.morphologyEx(closing, cv2.MORPH_CLOSE, kernel)\n",
    "\n",
    "# closing = cv2.morphologyEx(maze3, cv2.MORPH_CLOSE, kernel)"
   ]
  },
  {
   "cell_type": "code",
   "execution_count": 17,
   "metadata": {},
   "outputs": [],
   "source": [
    "# plt.imshow(closing, cmap='gray')\n",
    "# cv2.imshow('test', closing)\n",
    "# cv2.waitKey(0)\n",
    "# cv2.destroyAllWindows()"
   ]
  },
  {
   "cell_type": "code",
   "execution_count": 23,
   "metadata": {},
   "outputs": [],
   "source": [
    "def get_maze(img):\n",
    "\t# Given colors (BGR format)\n",
    "# \tstart_color = np.array((113, 204, 45))\n",
    "# \tend_color = np.array((60, 76, 231))\n",
    "\tobstacle_color = np.array((255, 255, 255))\n",
    "\n",
    "# \tstart = end = None\n",
    "\th, w = img.shape \n",
    "\tmaze = np.ones(img.shape)\n",
    "\n",
    "\t# Loop over the pixels of the image and compare with the given values\n",
    "\tfor i in range(h):\n",
    "\t\tfor j in range(w):\n",
    "\t\t\tif np.all(img[i][j] == 255):\n",
    "\t\t\t\tmaze[i][j] = 0\n",
    "\n",
    "\treturn maze"
   ]
  },
  {
   "cell_type": "code",
   "execution_count": 24,
   "metadata": {},
   "outputs": [
    {
     "name": "stdout",
     "output_type": "stream",
     "text": [
      "(180, 457)\n"
     ]
    }
   ],
   "source": [
    "print(maze3.shape)"
   ]
  },
  {
   "cell_type": "code",
   "execution_count": 25,
   "metadata": {},
   "outputs": [
    {
     "data": {
      "text/plain": [
       "60999.0"
      ]
     },
     "execution_count": 25,
     "metadata": {},
     "output_type": "execute_result"
    }
   ],
   "source": [
    "grid = get_maze(maze3)\n",
    "np.sum(grid)"
   ]
  },
  {
   "cell_type": "code",
   "execution_count": 26,
   "metadata": {},
   "outputs": [
    {
     "name": "stdout",
     "output_type": "stream",
     "text": [
      "(200, 150, 3) (977, 1440, 3)\n"
     ]
    }
   ],
   "source": [
    "print(needle.shape, haystack.shape)"
   ]
  },
  {
   "cell_type": "code",
   "execution_count": 27,
   "metadata": {
    "scrolled": true
   },
   "outputs": [
    {
     "name": "stdout",
     "output_type": "stream",
     "text": [
      "(180, 457)\n"
     ]
    }
   ],
   "source": [
    "print(grid.shape)"
   ]
  },
  {
   "cell_type": "code",
   "execution_count": 28,
   "metadata": {},
   "outputs": [],
   "source": [
    "start = np.array([150, 20])\n",
    "end = np.array([150, 435])"
   ]
  },
  {
   "cell_type": "code",
   "execution_count": 29,
   "metadata": {},
   "outputs": [],
   "source": [
    "from pathfinder import PathFinder"
   ]
  },
  {
   "cell_type": "code",
   "execution_count": 30,
   "metadata": {},
   "outputs": [],
   "source": [
    "from heuristics import HeuristicManhattan"
   ]
  },
  {
   "cell_type": "code",
   "execution_count": 31,
   "metadata": {},
   "outputs": [],
   "source": [
    "moves_4 = np.array([[0, -1], [-1, 0], [0, 1], [1, 0]])"
   ]
  },
  {
   "cell_type": "code",
   "execution_count": 32,
   "metadata": {},
   "outputs": [],
   "source": [
    "pathfinder = PathFinder(grid, start, end, moves_4, HeuristicManhattan)"
   ]
  },
  {
   "cell_type": "code",
   "execution_count": 33,
   "metadata": {},
   "outputs": [
    {
     "name": "stdout",
     "output_type": "stream",
     "text": [
      "Hi 1\n",
      "F 57559 0\n"
     ]
    }
   ],
   "source": [
    "path_length = pathfinder.solve()"
   ]
  },
  {
   "cell_type": "code",
   "execution_count": 34,
   "metadata": {},
   "outputs": [
    {
     "name": "stdout",
     "output_type": "stream",
     "text": [
      "None\n"
     ]
    }
   ],
   "source": [
    "print(path_length)"
   ]
  },
  {
   "cell_type": "code",
   "execution_count": 35,
   "metadata": {},
   "outputs": [
    {
     "data": {
      "text/plain": [
       "(180, 457)"
      ]
     },
     "execution_count": 35,
     "metadata": {},
     "output_type": "execute_result"
    }
   ],
   "source": [
    "pathfinder.distances.shape"
   ]
  },
  {
   "cell_type": "code",
   "execution_count": 36,
   "metadata": {},
   "outputs": [
    {
     "name": "stdout",
     "output_type": "stream",
     "text": [
      "1.0\n"
     ]
    }
   ],
   "source": [
    "print(grid[160, 430])"
   ]
  },
  {
   "cell_type": "code",
   "execution_count": 37,
   "metadata": {},
   "outputs": [
    {
     "name": "stdout",
     "output_type": "stream",
     "text": [
      "(390, 390, 3)\n",
      "[73 73 73]\n"
     ]
    }
   ],
   "source": [
    "img1 = cv2.imread(\"data/Treasure/treasure_mp3.png\")\n",
    "print(img1.shape)\n",
    "print(img1[0, 0])"
   ]
  },
  {
   "cell_type": "code",
   "execution_count": 58,
   "metadata": {},
   "outputs": [],
   "source": [
    "s = []\n",
    "for i in range(390):\n",
    "    if img1[i, 0, 0] != img1[i, 0, 1]:\n",
    "        break\n",
    "    for j in range(390):\n",
    "        s.append(int(img1[i, j, 0]))\n",
    "# print(''.join(s))"
   ]
  },
  {
   "cell_type": "code",
   "execution_count": 59,
   "metadata": {},
   "outputs": [
    {
     "name": "stdout",
     "output_type": "stream",
     "text": [
      "152100\n",
      "[73, 68, 51, 4, 0, 0, 0, 0, 1, 71, 84, 88, 88, 88, 0, 0, 0, 18, 0, 0, 3, 109, 97, 106, 111, 114, 95, 98, 114, 97, 110, 100, 0, 100, 97, 115, 104, 0, 84, 88, 88, 88, 0, 0, 0, 17, 0, 0, 3, 109, 105, 110, 111, 114, 95, 118, 101, 114, 115, 105, 111, 110, 0, 48, 0, 84, 88, 88, 88, 0, 0, 0, 28, 0, 0, 3, 99, 111, 109, 112, 97, 116, 105, 98, 108, 101, 95, 98, 114, 97, 110, 100, 115, 0, 105, 115, 111, 54, 109, 112]\n"
     ]
    }
   ],
   "source": [
    "print(len(s))\n",
    "print(s[:100])"
   ]
  },
  {
   "cell_type": "code",
   "execution_count": 63,
   "metadata": {},
   "outputs": [],
   "source": [
    "buffer = 10000\n",
    "with open('out/treasure.mp3', 'wb') as f:\n",
    "    for i in range(0, 152101 - buffer, buffer):\n",
    "        f.write(bytes(s[i:i + buffer]))\n",
    "    f.write(bytes(s[i + buffer:]))"
   ]
  },
  {
   "cell_type": "code",
   "execution_count": null,
   "metadata": {},
   "outputs": [],
   "source": []
  }
 ],
 "metadata": {
  "celltoolbar": "Raw Cell Format",
  "kernelspec": {
   "display_name": "Python 3",
   "language": "python",
   "name": "python3"
  },
  "language_info": {
   "codemirror_mode": {
    "name": "ipython",
    "version": 3
   },
   "file_extension": ".py",
   "mimetype": "text/x-python",
   "name": "python",
   "nbconvert_exporter": "python",
   "pygments_lexer": "ipython3",
   "version": "3.8.9"
  }
 },
 "nbformat": 4,
 "nbformat_minor": 4
}
